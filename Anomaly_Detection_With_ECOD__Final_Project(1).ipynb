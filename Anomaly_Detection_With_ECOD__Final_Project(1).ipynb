{
  "nbformat": 4,
  "nbformat_minor": 0,
  "metadata": {
    "colab": {
      "provenance": []
    },
    "kernelspec": {
      "name": "python3",
      "display_name": "Python 3"
    },
    "language_info": {
      "name": "python"
    }
  },
  "cells": [
    {
      "cell_type": "code",
      "source": [
        "#εγκατάσταση πακέτου PyOD (https://pyod.readthedocs.io/en/latest/)\n",
        "!pip install pyod"
      ],
      "metadata": {
        "colab": {
          "base_uri": "https://localhost:8080/"
        },
        "id": "7y4_o32EG8c0",
        "outputId": "646a13b6-6a6c-4c75-9e93-44cca2bf0200"
      },
      "execution_count": 1,
      "outputs": [
        {
          "output_type": "stream",
          "name": "stdout",
          "text": [
            "Collecting pyod\n",
            "  Downloading pyod-2.0.2.tar.gz (165 kB)\n",
            "\u001b[2K     \u001b[90m━━━━━━━━━━━━━━━━━━━━━━━━━━━━━━━━━━━━━━━━\u001b[0m \u001b[32m165.8/165.8 kB\u001b[0m \u001b[31m2.9 MB/s\u001b[0m eta \u001b[36m0:00:00\u001b[0m\n",
            "\u001b[?25h  Preparing metadata (setup.py) ... \u001b[?25l\u001b[?25hdone\n",
            "Requirement already satisfied: joblib in /usr/local/lib/python3.10/dist-packages (from pyod) (1.4.2)\n",
            "Requirement already satisfied: matplotlib in /usr/local/lib/python3.10/dist-packages (from pyod) (3.7.1)\n",
            "Requirement already satisfied: numpy>=1.19 in /usr/local/lib/python3.10/dist-packages (from pyod) (1.26.4)\n",
            "Requirement already satisfied: numba>=0.51 in /usr/local/lib/python3.10/dist-packages (from pyod) (0.60.0)\n",
            "Requirement already satisfied: scipy>=1.5.1 in /usr/local/lib/python3.10/dist-packages (from pyod) (1.13.1)\n",
            "Requirement already satisfied: scikit-learn>=0.22.0 in /usr/local/lib/python3.10/dist-packages (from pyod) (1.3.2)\n",
            "Requirement already satisfied: llvmlite<0.44,>=0.43.0dev0 in /usr/local/lib/python3.10/dist-packages (from numba>=0.51->pyod) (0.43.0)\n",
            "Requirement already satisfied: threadpoolctl>=2.0.0 in /usr/local/lib/python3.10/dist-packages (from scikit-learn>=0.22.0->pyod) (3.5.0)\n",
            "Requirement already satisfied: contourpy>=1.0.1 in /usr/local/lib/python3.10/dist-packages (from matplotlib->pyod) (1.3.0)\n",
            "Requirement already satisfied: cycler>=0.10 in /usr/local/lib/python3.10/dist-packages (from matplotlib->pyod) (0.12.1)\n",
            "Requirement already satisfied: fonttools>=4.22.0 in /usr/local/lib/python3.10/dist-packages (from matplotlib->pyod) (4.53.1)\n",
            "Requirement already satisfied: kiwisolver>=1.0.1 in /usr/local/lib/python3.10/dist-packages (from matplotlib->pyod) (1.4.7)\n",
            "Requirement already satisfied: packaging>=20.0 in /usr/local/lib/python3.10/dist-packages (from matplotlib->pyod) (24.1)\n",
            "Requirement already satisfied: pillow>=6.2.0 in /usr/local/lib/python3.10/dist-packages (from matplotlib->pyod) (9.4.0)\n",
            "Requirement already satisfied: pyparsing>=2.3.1 in /usr/local/lib/python3.10/dist-packages (from matplotlib->pyod) (3.1.4)\n",
            "Requirement already satisfied: python-dateutil>=2.7 in /usr/local/lib/python3.10/dist-packages (from matplotlib->pyod) (2.8.2)\n",
            "Requirement already satisfied: six>=1.5 in /usr/local/lib/python3.10/dist-packages (from python-dateutil>=2.7->matplotlib->pyod) (1.16.0)\n",
            "Building wheels for collected packages: pyod\n",
            "  Building wheel for pyod (setup.py) ... \u001b[?25l\u001b[?25hdone\n",
            "  Created wheel for pyod: filename=pyod-2.0.2-py3-none-any.whl size=198469 sha256=6a6db3a4b7112d45aa65af8724458d0b81bc87618973e2677ab20c5c2131c49f\n",
            "  Stored in directory: /root/.cache/pip/wheels/77/c2/20/34d1f15b41b701ba69f42a32304825810d680754d509f91391\n",
            "Successfully built pyod\n",
            "Installing collected packages: pyod\n",
            "Successfully installed pyod-2.0.2\n"
          ]
        }
      ]
    },
    {
      "cell_type": "code",
      "source": [
        "' Flow Duration', ' Flow Bytes/s', ' Flow Packets/s', ' Flow IAT Mean', 'Fwd IAT Mean', 'Bwd IAT Mean', 'Active Mean', 'Idle Mean'"
      ],
      "metadata": {
        "colab": {
          "base_uri": "https://localhost:8080/"
        },
        "id": "4mXulO9mJk6d",
        "outputId": "4857fdbd-a648-400c-e55f-d0f05ae253e0"
      },
      "execution_count": 2,
      "outputs": [
        {
          "output_type": "execute_result",
          "data": {
            "text/plain": [
              "(' Flow Duration',\n",
              " ' Flow Bytes/s',\n",
              " ' Flow Packets/s',\n",
              " ' Flow IAT Mean',\n",
              " 'Fwd IAT Mean',\n",
              " 'Bwd IAT Mean',\n",
              " 'Active Mean',\n",
              " 'Idle Mean')"
            ]
          },
          "metadata": {},
          "execution_count": 2
        }
      ]
    },
    {
      "cell_type": "code",
      "source": [
        "#εισαγωγή βιβλιοθηκών - πακέτων\n",
        "import pandas as pd\n",
        "from sklearn.preprocessing import StandardScaler\n",
        "from pyod.models.ecod import ECOD\n",
        "import matplotlib.pyplot as plt"
      ],
      "metadata": {
        "id": "ZuEgP2MsOGWs"
      },
      "execution_count": 3,
      "outputs": []
    },
    {
      "cell_type": "code",
      "source": [
        "#εισαγωγή του συνόλου δεδομένων\n",
        "network_data = pd.read_csv('https://raw.githubusercontent.com/GCharisop/PRACTICAL-EXPERIMENT/main/DarkNet%20(1).csv', delimiter=',') # Use 'raw.githubusercontent.com' in the URL to access the raw data"
      ],
      "metadata": {
        "colab": {
          "base_uri": "https://localhost:8080/"
        },
        "id": "7h9glJBtIdT8",
        "outputId": "f52fec56-a66a-4494-9815-08de724c5596"
      },
      "execution_count": 4,
      "outputs": [
        {
          "output_type": "stream",
          "name": "stderr",
          "text": [
            "<ipython-input-4-b8b7a85522e8>:2: DtypeWarning: Columns (18) have mixed types. Specify dtype option on import or set low_memory=False.\n",
            "  network_data = pd.read_csv('https://raw.githubusercontent.com/GCharisop/PRACTICAL-EXPERIMENT/main/DarkNet%20(1).csv', delimiter=',') # Use 'raw.githubusercontent.com' in the URL to access the raw data\n"
          ]
        }
      ]
    },
    {
      "cell_type": "code",
      "source": [],
      "metadata": {
        "id": "8WjABfBAKRJS"
      },
      "execution_count": null,
      "outputs": []
    },
    {
      "cell_type": "code",
      "source": [
        "' Flow Duration', ' Flow Bytes/s', ' Flow Packets/s', ' Flow IAT Mean', 'Fwd IAT Mean', 'Bwd IAT Mean', 'Active Mean', 'Idle Mean'"
      ],
      "metadata": {
        "colab": {
          "base_uri": "https://localhost:8080/"
        },
        "outputId": "9b9d896c-9437-48cc-ed42-27b108d37a36",
        "id": "bPvppxZ-KSHx"
      },
      "execution_count": null,
      "outputs": [
        {
          "output_type": "execute_result",
          "data": {
            "text/plain": [
              "(' Flow Duration',\n",
              " ' Flow Bytes/s',\n",
              " ' Flow Packets/s',\n",
              " ' Flow IAT Mean',\n",
              " 'Fwd IAT Mean',\n",
              " 'Bwd IAT Mean',\n",
              " 'Active Mean',\n",
              " 'Idle Mean')"
            ]
          },
          "metadata": {},
          "execution_count": 18
        }
      ]
    },
    {
      "cell_type": "code",
      "source": [
        "#εισαγωγή βιβλιοθηκών - πακέτων\n",
        "import pandas as pd\n",
        "from sklearn.preprocessing import StandardScaler\n",
        "from pyod.models.ecod import ECOD\n",
        "import matplotlib.pyplot as plt"
      ],
      "metadata": {
        "id": "EigUcZ3WKg2Z"
      },
      "execution_count": 5,
      "outputs": []
    },
    {
      "cell_type": "code",
      "source": [
        "#εισαγωγή του συνόλου δεδομένων\n",
        "network_data = pd.read_csv('https://raw.githubusercontent.com/GCharisop/PRACTICAL-EXPERIMENT/main/DarkNet%20(1).csv', delimiter=',') # Use 'raw.githubusercontent.com' in the URL to access the raw data"
      ],
      "metadata": {
        "colab": {
          "base_uri": "https://localhost:8080/"
        },
        "id": "V4snoCsLKiKy",
        "outputId": "9783b945-396a-4819-8462-f95d2ce74b1e"
      },
      "execution_count": 6,
      "outputs": [
        {
          "output_type": "stream",
          "name": "stderr",
          "text": [
            "<ipython-input-6-b8b7a85522e8>:2: DtypeWarning: Columns (18) have mixed types. Specify dtype option on import or set low_memory=False.\n",
            "  network_data = pd.read_csv('https://raw.githubusercontent.com/GCharisop/PRACTICAL-EXPERIMENT/main/DarkNet%20(1).csv', delimiter=',') # Use 'raw.githubusercontent.com' in the URL to access the raw data\n"
          ]
        }
      ]
    },
    {
      "cell_type": "code",
      "source": [
        "print(network_data.columns)"
      ],
      "metadata": {
        "colab": {
          "base_uri": "https://localhost:8080/"
        },
        "id": "nk12sesbLS07",
        "outputId": "d5f58a9a-f388-445c-bd07-4727329d2204"
      },
      "execution_count": 7,
      "outputs": [
        {
          "output_type": "stream",
          "name": "stdout",
          "text": [
            "Index(['Src_IP', 'Src_Port', 'Dst_IP', 'Dst_Port', 'Protocol', 'Flow_Duration',\n",
            "       'Total_Fwd_Packet', 'Total_Bwd_packets', 'Total_Length_of_Fwd_Packet',\n",
            "       'Total_Length_of_Bwd_Packet', 'Fwd_Packet_Length_Max',\n",
            "       'Fwd_Packet_Length_Min', 'Fwd_Packet_Length_Mean',\n",
            "       'Fwd_Packet_Length_Std', 'Bwd_Packet_Length_Max',\n",
            "       'Bwd_Packet_Length_Min', 'Bwd_Packet_Length_Mean',\n",
            "       'Bwd_Packet_Length_Std', 'Flow_Bytes/s', 'Flow_Packets/s',\n",
            "       'Flow_IAT_Mean', 'Flow_IAT_Std', 'Flow_IAT_Max', 'Flow_IAT_Min',\n",
            "       'Fwd_IAT_Total', 'Fwd_IAT_Mean', 'Fwd_IAT_Std', 'Fwd_IAT_Max',\n",
            "       'Fwd_IAT_Min', 'Bwd_IAT_Total', 'Bwd_IAT_Mean', 'Bwd_IAT_Std',\n",
            "       'Bwd_IAT_Max', 'Bwd_IAT_Min', 'Fwd_PSH_Flags', 'Bwd_PSH_Flags',\n",
            "       'Fwd_URG_Flags', 'Bwd_URG_Flags', 'Fwd_Header_Length',\n",
            "       'Bwd_Header_Length', 'Fwd_Packets/s', 'Bwd_Packets/s',\n",
            "       'Packet_Length_Min', 'Packet_Length_Max', 'Packet_Length_Mean',\n",
            "       'Packet_Length_Std', 'Packet_Length_Variance', 'FIN_Flag_Count',\n",
            "       'SYN_Flag_Count', 'RST_Flag_Count', 'PSH_Flag_Count', 'ACK_Flag_Count',\n",
            "       'URG_Flag_Count', 'CWE_Flag_Count', 'ECE_Flag_Count', 'Down/Up_Ratio',\n",
            "       'Average_Packet_Size', 'Fwd_Segment_Size_Avg', 'Bwd_Segment_Size_Avg',\n",
            "       'Fwd_Bytes/Bulk_Avg', 'Fwd_Packet/Bulk_Avg', 'Fwd_Bulk_Rate_Avg',\n",
            "       'Bwd_Bytes/Bulk_Avg', 'Bwd_Packet/Bulk_Avg', 'Bwd_Bulk_Rate_Avg',\n",
            "       'Subflow_Fwd_Packets', 'Subflow_Fwd_Bytes', 'Subflow_Bwd_Packets',\n",
            "       'Subflow_Bwd_Bytes', 'FWD_Init_Win_Bytes', 'Bwd_Init_Win_Bytes',\n",
            "       'Fwd_Act_Data_Pkts', 'Fwd_Seg_Size_Min', 'Active_Mean', 'Active_Std',\n",
            "       'Active_Max', 'Active_Min', 'Idle_Mean', 'Idle_Std', 'Idle_Max',\n",
            "       'Idle_Min', 'Label-1', 'Label-2'],\n",
            "      dtype='object')\n"
          ]
        }
      ]
    },
    {
      "cell_type": "code",
      "source": [
        "# Function to standardize column names (remove leading/trailing spaces and convert to lowercase)\n",
        "def standardize_column_name(column):\n",
        "  return column.strip().lower()\n",
        "\n",
        "# Apply the function to the DataFrame's columns\n",
        "network_data.columns = [standardize_column_name(col) for col in network_data.columns]\n"
      ],
      "metadata": {
        "id": "_M1FULRwMEM_"
      },
      "execution_count": 8,
      "outputs": []
    },
    {
      "cell_type": "code",
      "source": [
        "# Ensure the features list has standardized names\n",
        "features = ['Flow_Bytes/s', 'Flow_Packets/s',\n",
        "       'Flow_IAT_Mean', 'Flow_IAT_Std', 'Flow_IAT_Max', 'Flow_IAT_Min',\n",
        "       'Fwd_IAT_Total', 'Fwd_IAT_Mean', 'Fwd_IAT_Std', 'Fwd_IAT_Max',\n",
        "       'Fwd_IAT_Min', 'Bwd_IAT_Total', 'Bwd_IAT_Mean', 'Bwd_IAT_Std',\n",
        "       'Bwd_IAT_Max', 'Bwd_IAT_Min']"
      ],
      "metadata": {
        "id": "WOg_t6GrMFmX"
      },
      "execution_count": 9,
      "outputs": []
    },
    {
      "cell_type": "code",
      "source": [
        "# Ensure the features list has standardized names\n",
        "features = ['flow_bytes/s', 'flow_packets/s',\n",
        "       'flow_iat_mean', 'flow_iat_std', 'flow_iat_max', 'flow_iat_min',\n",
        "       'fwd_iat_total', 'fwd_iat_mean', 'fwd_iat_std', 'fwd_iat_max',\n",
        "       'fwd_iat_min', 'bwd_iat_total', 'bwd_iat_mean', 'bwd_iat_std',\n",
        "       'bwd_iat_max', 'bwd_iat_min']\n",
        "\n",
        "# Select features for analysis\n",
        "X = network_data[features]"
      ],
      "metadata": {
        "id": "4Il451n-Mreb"
      },
      "execution_count": 10,
      "outputs": []
    },
    {
      "cell_type": "code",
      "source": [
        "!pip install scikit-learn\n",
        "import pandas as pd\n",
        "from sklearn.preprocessing import StandardScaler\n",
        "import numpy as np # Added import statement for NumPy"
      ],
      "metadata": {
        "colab": {
          "base_uri": "https://localhost:8080/"
        },
        "id": "pxo9_KE8NU7Q",
        "outputId": "b928ea37-2833-4284-e990-1563056b5b79"
      },
      "execution_count": 11,
      "outputs": [
        {
          "output_type": "stream",
          "name": "stdout",
          "text": [
            "Requirement already satisfied: scikit-learn in /usr/local/lib/python3.10/dist-packages (1.3.2)\n",
            "Requirement already satisfied: numpy<2.0,>=1.17.3 in /usr/local/lib/python3.10/dist-packages (from scikit-learn) (1.26.4)\n",
            "Requirement already satisfied: scipy>=1.5.0 in /usr/local/lib/python3.10/dist-packages (from scikit-learn) (1.13.1)\n",
            "Requirement already satisfied: joblib>=1.1.1 in /usr/local/lib/python3.10/dist-packages (from scikit-learn) (1.4.2)\n",
            "Requirement already satisfied: threadpoolctl>=2.0.0 in /usr/local/lib/python3.10/dist-packages (from scikit-learn) (3.5.0)\n"
          ]
        }
      ]
    },
    {
      "cell_type": "code",
      "source": [
        "# Replace '?' with NaN in the DataFrame\n",
        "X.replace('?', np.nan, inplace=True)\n"
      ],
      "metadata": {
        "colab": {
          "base_uri": "https://localhost:8080/"
        },
        "id": "JBiShybiNZK0",
        "outputId": "247f0730-9613-4305-8427-92b86fc49a80"
      },
      "execution_count": 13,
      "outputs": [
        {
          "output_type": "stream",
          "name": "stderr",
          "text": [
            "<ipython-input-13-64bb595a9738>:2: SettingWithCopyWarning: \n",
            "A value is trying to be set on a copy of a slice from a DataFrame\n",
            "\n",
            "See the caveats in the documentation: https://pandas.pydata.org/pandas-docs/stable/user_guide/indexing.html#returning-a-view-versus-a-copy\n",
            "  X.replace('?', np.nan, inplace=True)\n"
          ]
        }
      ]
    },
    {
      "cell_type": "code",
      "source": [
        "# Convert columns to numeric type, handling errors by coercing to NaN\n",
        "for col in X.columns:\n",
        "  X[col] = pd.to_numeric(X[col], errors='coerce')"
      ],
      "metadata": {
        "colab": {
          "base_uri": "https://localhost:8080/"
        },
        "id": "ncQEFVcTNcJK",
        "outputId": "1f3015fc-3e0b-4804-d562-11d64ce6b24f"
      },
      "execution_count": 14,
      "outputs": [
        {
          "output_type": "stream",
          "name": "stderr",
          "text": [
            "<ipython-input-14-22622e4d4d2d>:3: SettingWithCopyWarning: \n",
            "A value is trying to be set on a copy of a slice from a DataFrame.\n",
            "Try using .loc[row_indexer,col_indexer] = value instead\n",
            "\n",
            "See the caveats in the documentation: https://pandas.pydata.org/pandas-docs/stable/user_guide/indexing.html#returning-a-view-versus-a-copy\n",
            "  X[col] = pd.to_numeric(X[col], errors='coerce')\n"
          ]
        }
      ]
    },
    {
      "cell_type": "code",
      "source": [
        "# Check for infinite values and replace them with NaN\n",
        "X.replace([np.inf, -np.inf], np.nan, inplace=True)\n",
        "\n",
        "# Assuming 'X' is your feature data\n",
        "scaler = StandardScaler()\n",
        "X_scaled = scaler.fit_transform(X)"
      ],
      "metadata": {
        "colab": {
          "base_uri": "https://localhost:8080/"
        },
        "id": "maUZ98tIO5QO",
        "outputId": "35bfbab4-6648-4956-9132-ec45919de0d3"
      },
      "execution_count": 15,
      "outputs": [
        {
          "output_type": "stream",
          "name": "stderr",
          "text": [
            "<ipython-input-15-fbf7187bee83>:2: SettingWithCopyWarning: \n",
            "A value is trying to be set on a copy of a slice from a DataFrame\n",
            "\n",
            "See the caveats in the documentation: https://pandas.pydata.org/pandas-docs/stable/user_guide/indexing.html#returning-a-view-versus-a-copy\n",
            "  X.replace([np.inf, -np.inf], np.nan, inplace=True)\n"
          ]
        }
      ]
    },
    {
      "cell_type": "code",
      "source": [
        "!pip install scikit-learn\n",
        "import pandas as pd\n",
        "from sklearn.preprocessing import StandardScaler\n",
        "from sklearn.impute import SimpleImputer\n",
        "import numpy as np\n",
        "\n",
        "# Assuming 'X' is your feature data\n",
        "# Replace '?' with NaN in the DataFrame\n",
        "X.replace('?', np.nan, inplace=True)"
      ],
      "metadata": {
        "colab": {
          "base_uri": "https://localhost:8080/"
        },
        "id": "LoT5XEy-PTjy",
        "outputId": "76856892-e303-4ad1-ca14-8e33441d584a"
      },
      "execution_count": 16,
      "outputs": [
        {
          "output_type": "stream",
          "name": "stdout",
          "text": [
            "Requirement already satisfied: scikit-learn in /usr/local/lib/python3.10/dist-packages (1.3.2)\n",
            "Requirement already satisfied: numpy<2.0,>=1.17.3 in /usr/local/lib/python3.10/dist-packages (from scikit-learn) (1.26.4)\n",
            "Requirement already satisfied: scipy>=1.5.0 in /usr/local/lib/python3.10/dist-packages (from scikit-learn) (1.13.1)\n",
            "Requirement already satisfied: joblib>=1.1.1 in /usr/local/lib/python3.10/dist-packages (from scikit-learn) (1.4.2)\n",
            "Requirement already satisfied: threadpoolctl>=2.0.0 in /usr/local/lib/python3.10/dist-packages (from scikit-learn) (3.5.0)\n"
          ]
        },
        {
          "output_type": "stream",
          "name": "stderr",
          "text": [
            "<ipython-input-16-0f53635ce500>:9: SettingWithCopyWarning: \n",
            "A value is trying to be set on a copy of a slice from a DataFrame\n",
            "\n",
            "See the caveats in the documentation: https://pandas.pydata.org/pandas-docs/stable/user_guide/indexing.html#returning-a-view-versus-a-copy\n",
            "  X.replace('?', np.nan, inplace=True)\n"
          ]
        }
      ]
    },
    {
      "cell_type": "code",
      "source": [
        "# Convert columns to numeric type, handling errors by coercing to NaN\n",
        "for col in X.columns:\n",
        "    X[col] = pd.to_numeric(X[col], errors='coerce')"
      ],
      "metadata": {
        "colab": {
          "base_uri": "https://localhost:8080/"
        },
        "id": "LAy6n3y5PaY9",
        "outputId": "6cb6e16a-3eba-408b-c747-5d49734a568a"
      },
      "execution_count": 17,
      "outputs": [
        {
          "output_type": "stream",
          "name": "stderr",
          "text": [
            "<ipython-input-17-1732b156c864>:3: SettingWithCopyWarning: \n",
            "A value is trying to be set on a copy of a slice from a DataFrame.\n",
            "Try using .loc[row_indexer,col_indexer] = value instead\n",
            "\n",
            "See the caveats in the documentation: https://pandas.pydata.org/pandas-docs/stable/user_guide/indexing.html#returning-a-view-versus-a-copy\n",
            "  X[col] = pd.to_numeric(X[col], errors='coerce')\n"
          ]
        }
      ]
    },
    {
      "cell_type": "code",
      "source": [
        "# Check for infinite values and replace them with NaN\n",
        "X.replace([np.inf, -np.inf], np.nan, inplace=True)\n",
        "\n",
        "# Impute missing values using the mean strategy\n",
        "imputer = SimpleImputer(strategy='mean') # Create an imputer object with the mean strategy\n",
        "X_imputed = imputer.fit_transform(X) # Fit and transform the imputer on your data\n",
        "\n",
        "# Scale the imputed data\n",
        "scaler = StandardScaler()\n",
        "X_scaled = scaler.fit_transform(X_imputed)\n"
      ],
      "metadata": {
        "colab": {
          "base_uri": "https://localhost:8080/"
        },
        "id": "2t5iu7JMPfe-",
        "outputId": "82c5cef4-c720-4188-bd03-a6fb6e0e119d"
      },
      "execution_count": 18,
      "outputs": [
        {
          "output_type": "stream",
          "name": "stderr",
          "text": [
            "<ipython-input-18-f7c27da90514>:2: SettingWithCopyWarning: \n",
            "A value is trying to be set on a copy of a slice from a DataFrame\n",
            "\n",
            "See the caveats in the documentation: https://pandas.pydata.org/pandas-docs/stable/user_guide/indexing.html#returning-a-view-versus-a-copy\n",
            "  X.replace([np.inf, -np.inf], np.nan, inplace=True)\n"
          ]
        }
      ]
    },
    {
      "cell_type": "code",
      "source": [
        "from sklearn.ensemble import IsolationForest\n",
        "\n",
        "# Create an IsolationForest model\n",
        "model = IsolationForest()\n",
        "\n",
        "# Fit the model and predict anomaly scores\n",
        "anomaly_scores = model.fit_predict(X_scaled)\n",
        "\n",
        "# Add the anomaly scores to your DataFrame\n",
        "network_data['anomaly_score'] = anomaly_scores"
      ],
      "metadata": {
        "id": "QPNSnW-vPlbF"
      },
      "execution_count": 19,
      "outputs": []
    },
    {
      "cell_type": "code",
      "source": [
        "threshold = np.percentile(anomaly_scores, 100 * 0.1)"
      ],
      "metadata": {
        "id": "F5ishGHaq39M"
      },
      "execution_count": 20,
      "outputs": []
    },
    {
      "cell_type": "code",
      "source": [
        "import matplotlib.pyplot as plt\n",
        "import numpy as np\n",
        "\n",
        "# Χρησιμοποιήστε decision_function για να πάρετε τα σκορ ανωμαλιών\n",
        "anomaly_scores = model.decision_function(X_scaled)\n",
        "\n",
        "# Καθορίστε το κατώφλι ανωμαλιών (εδώ, το 10% των χαμηλότερων scores)\n",
        "anomaly_threshold = np.percentile(anomaly_scores, 100 * 0.1)\n",
        "\n",
        "# Δημιουργία λίστας χρωμάτων με βάση το κατώφλι\n",
        "colors = ['blue' if score >= anomaly_threshold else 'red' for score in anomaly_scores]\n",
        "\n",
        "# Δημιουργία διαγράμματος διασποράς\n",
        "plt.scatter(network_data.index, anomaly_scores, c=colors, label='Anomaly score')\n",
        "plt.axhline(y=anomaly_threshold, color='black', linestyle='--', label='Threshold')\n",
        "plt.xlabel('Sample Index')\n",
        "plt.ylabel('Anomaly Score')\n",
        "plt.legend()\n",
        "plt.show()"
      ],
      "metadata": {
        "colab": {
          "base_uri": "https://localhost:8080/",
          "height": 469
        },
        "id": "h7SstknhrEEa",
        "outputId": "93146ba6-b597-48ff-9f3e-3645c8cbbef1"
      },
      "execution_count": 21,
      "outputs": [
        {
          "output_type": "display_data",
          "data": {
            "text/plain": [
              "<Figure size 640x480 with 1 Axes>"
            ],
            "image/png": "[encoded data removed]"
          },
          "metadata": {}
        }
      ]
    },
    {
      "cell_type": "code",
      "source": [
        "# Add the anomaly scores to your DataFrame\n",
        "network_data['anomaly_score'] = anomaly_scores"
      ],
      "metadata": {
        "id": "ywycviVJrYBM"
      },
      "execution_count": 22,
      "outputs": []
    },
    {
      "cell_type": "code",
      "source": [
        "# Δημιουργία DataFrame για τα δείγματα που έχουν χαρακτηριστεί ως ανωμαλίες\n",
        "anomalies = network_data[anomaly_scores < anomaly_threshold]\n",
        "\n",
        "# Εκτύπωση των ανωμαλιών\n",
        "print(anomalies)"
      ],
      "metadata": {
        "colab": {
          "base_uri": "https://localhost:8080/"
        },
        "id": "VXhrmGDrs_K4",
        "outputId": "67096274-18a8-452c-91c0-46066b898707"
      },
      "execution_count": 24,
      "outputs": [
        {
          "output_type": "stream",
          "name": "stdout",
          "text": [
            "              src_ip  src_port          dst_ip  dst_port  protocol  \\\n",
            "21     10.152.152.11     47874  173.194.65.102       443         6   \n",
            "22     10.152.152.11     47698  173.194.65.101       443         6   \n",
            "23     10.152.152.11     57457  173.194.65.138       443         6   \n",
            "25     10.152.152.11     49132  74.125.136.120       443         6   \n",
            "28     10.152.152.11     41995  74.125.136.132       443         6   \n",
            "...              ...       ...             ...       ...       ...   \n",
            "68023     10.8.8.246       138      10.8.8.247       138        17   \n",
            "68029        8.6.0.1         0         8.0.6.4         0         0   \n",
            "68032        8.6.0.1         0         8.0.6.4         0         0   \n",
            "68296        8.6.0.1         0         8.0.6.4         0         0   \n",
            "68508     10.8.8.246       138      10.8.8.247       138        17   \n",
            "\n",
            "       flow_duration  total_fwd_packet  total_bwd_packets  \\\n",
            "21          59904266                 2                  4   \n",
            "22          59650091                 3                  3   \n",
            "23          59690811                 2                  4   \n",
            "25         104786818                 4                  4   \n",
            "28         104732111                 3                  5   \n",
            "...              ...               ...                ...   \n",
            "68023       62516647                 2                  0   \n",
            "68029       83981936                 3                  0   \n",
            "68032       83985866                 3                  0   \n",
            "68296       42009327                 2                  0   \n",
            "68508      115015979                 2                  0   \n",
            "\n",
            "       total_length_of_fwd_packet  total_length_of_bwd_packet  ...  \\\n",
            "21                              0                         154  ...   \n",
            "22                              0                         154  ...   \n",
            "23                              0                         154  ...   \n",
            "25                              0                         154  ...   \n",
            "28                              0                         154  ...   \n",
            "...                           ...                         ...  ...   \n",
            "68023                         410                           0  ...   \n",
            "68029                           0                           0  ...   \n",
            "68032                           0                           0  ...   \n",
            "68296                           0                           0  ...   \n",
            "68508                         410                           0  ...   \n",
            "\n",
            "       active_std  active_max  active_min         idle_mean      idle_std  \\\n",
            "21              0           0           0  1437770000000000  3.119528e+07   \n",
            "22              0           0           0  1437770000000000  3.109322e+07   \n",
            "23              0           0           0  1437770000000000  3.110989e+07   \n",
            "25              0           0           0  1437770000000000  4.157542e+07   \n",
            "28              0           0           0  1437770000000000  4.156002e+07   \n",
            "...           ...         ...         ...               ...           ...   \n",
            "68023           0           0           0          62516647  0.000000e+00   \n",
            "68029           0           0           0   716158000000000  1.010000e+15   \n",
            "68032           0           0           0   716158000000000  1.012800e+15   \n",
            "68296           0           0           0          42009327  0.000000e+00   \n",
            "68508           0           0           0         115015979  0.000000e+00   \n",
            "\n",
            "               idle_max          idle_min  label-1          label-2  \\\n",
            "21     1437770000000000  1437770000000000  Non-Tor  AUDIO-STREAMING   \n",
            "22     1437770000000000  1437770000000000  Non-Tor  AUDIO-STREAMING   \n",
            "23     1437770000000000  1437770000000000  Non-Tor  AUDIO-STREAMING   \n",
            "25     1437770000000000  1437770000000000  Non-Tor  AUDIO-STREAMING   \n",
            "28     1437770000000000  1437770000000000  Non-Tor  AUDIO-STREAMING   \n",
            "...                 ...               ...      ...              ...   \n",
            "68023          62516647          62516647      VPN             VOIP   \n",
            "68029  1432320000000000          41993571      VPN             VOIP   \n",
            "68032  1432320000000000          41996659      VPN             VOIP   \n",
            "68296          42009327          42009327      VPN             VOIP   \n",
            "68508         115015979         115015979      VPN             VOIP   \n",
            "\n",
            "       anomaly_score  \n",
            "21         -0.053245  \n",
            "22         -0.070087  \n",
            "23         -0.053620  \n",
            "25         -0.065181  \n",
            "28         -0.042354  \n",
            "...              ...  \n",
            "68023      -0.155907  \n",
            "68029      -0.103901  \n",
            "68032      -0.105262  \n",
            "68296      -0.103694  \n",
            "68508      -0.208035  \n",
            "\n",
            "[6858 rows x 84 columns]\n"
          ]
        }
      ]
    }
  ]
}